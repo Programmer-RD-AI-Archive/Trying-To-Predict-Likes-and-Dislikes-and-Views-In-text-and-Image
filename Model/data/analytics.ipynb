{
 "cells": [
  {
   "cell_type": "code",
   "execution_count": 1,
   "id": "6169ec6f-d102-4896-9cbd-ba78b93904ab",
   "metadata": {},
   "outputs": [],
   "source": [
    "import pandas as pd\n",
    "import numpy as np\n",
    "import matplotlib.pyplot as plt\n",
    "import seaborn\n",
    "import os\n",
    "import cv2,json,threading\n",
    "from tqdm import tqdm\n",
    "ignore_files = ['analysis.ipynb', '.ipynb_checkpoints','data_creation.py']"
   ]
  },
  {
   "cell_type": "code",
   "execution_count": null,
   "id": "dc5b3e2c-9ce6-4788-a0ce-cf043342fa9c",
   "metadata": {},
   "outputs": [],
   "source": []
  }
 ],
 "metadata": {
  "kernelspec": {
   "display_name": "Python 3.8.8 64-bit ('base': conda)",
   "language": "python",
   "name": "python388jvsc74a57bd07338908a6901250255932625ba4b5c32a9d91564d69b39dc5095100e5c96b0b4"
  },
  "language_info": {
   "codemirror_mode": {
    "name": "ipython",
    "version": 3
   },
   "file_extension": ".py",
   "mimetype": "text/x-python",
   "name": "python",
   "nbconvert_exporter": "python",
   "pygments_lexer": "ipython3",
   "version": "3.8.8"
  }
 },
 "nbformat": 4,
 "nbformat_minor": 5
}
