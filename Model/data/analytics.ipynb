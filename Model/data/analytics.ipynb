{
 "cells": [
  {
   "cell_type": "code",
   "execution_count": 1,
   "id": "6169ec6f-d102-4896-9cbd-ba78b93904ab",
   "metadata": {},
   "outputs": [],
   "source": [
    "import pandas as pd\n",
    "import numpy as np\n",
    "import matplotlib.pyplot as plt\n",
    "import seaborn\n",
    "import os\n",
    "import wandb\n",
    "import nltk\n",
    "from nltk.stem.porter import *\n",
    "from torch.nn import *\n",
    "from torch.optim import *\n",
    "import numpy as np\n",
    "import pandas as pd\n",
    "import torch,torchvision\n",
    "import random\n",
    "from tqdm import *\n",
    "from torch.utils.data import Dataset,DataLoader\n",
    "import cv2,json,threading\n",
    "from tqdm import tqdm\n",
    "stemmer = PorterStemmer()\n",
    "ignore_files = ['analysis.ipynb', '.ipynb_checkpoints','data_creation.py']"
   ]
  },
  {
   "cell_type": "code",
   "execution_count": 2,
   "id": "634ea22e-afbd-4246-a319-a517e63fc09b",
   "metadata": {},
   "outputs": [],
   "source": [
    "data1 = pd.read_csv('./US_youtube_trending_data.csv')"
   ]
  },
  {
   "cell_type": "code",
   "execution_count": 3,
   "id": "71ed70c6-2844-4e12-a0d7-cf4dd81f8548",
   "metadata": {},
   "outputs": [],
   "source": [
    "data2 = pd.read_csv('./USvideos.csv')"
   ]
  },
  {
   "cell_type": "code",
   "execution_count": 4,
   "id": "ed11d1bb-a410-408d-af60-b9baa582285c",
   "metadata": {},
   "outputs": [],
   "source": [
    "files = list(os.listdir('./'))\n",
    "files.remove('US_youtube_trending_data.csv')\n",
    "files.remove('USvideos.csv')\n",
    "files.remove('.ipynb_checkpoints')\n",
    "files.remove('analytics.ipynb')\n",
    "files.remove('data_creation.py')\n",
    "files.remove('.virtual_documents')"
   ]
  },
  {
   "cell_type": "code",
   "execution_count": 5,
   "id": "7c550f23-1468-4d9a-b247-49b326c86b5d",
   "metadata": {},
   "outputs": [
    {
     "name": "stderr",
     "output_type": "stream",
     "text": [
      "100%|███████████████████████| 19/19 [00:16<00:00,  1.18it/s]\n"
     ]
    }
   ],
   "source": [
    "for file in tqdm(files):\n",
    "    if len(file.split('_')) > 1:\n",
    "        data1 = data1.append(pd.read_csv(f'./{file}'))\n",
    "    else:\n",
    "        data2 = data2.append(pd.read_csv(f'./{file}',encoding='latin-1'))"
   ]
  },
  {
   "cell_type": "code",
   "execution_count": 6,
   "id": "da8c5d0a-423c-41ac-9623-c7f9649ce0c0",
   "metadata": {},
   "outputs": [],
   "source": [
    "data1.rename(columns={'publishedAt':'publish_time','channelTitle':'channel_title','categoryId':'category_id','view_count':'views'},inplace=True)"
   ]
  },
  {
   "cell_type": "code",
   "execution_count": 7,
   "id": "4c6ef400-f9fc-4768-8463-169915f03055",
   "metadata": {},
   "outputs": [],
   "source": [
    "data = data1.append(data2)"
   ]
  },
  {
   "cell_type": "code",
   "execution_count": 8,
   "id": "b76e0bf6-eb18-43a8-9bc7-68fe58d0c970",
   "metadata": {},
   "outputs": [],
   "source": [
    "data.drop(['channelId','description','video_error_or_removed'],axis=1,inplace=True)"
   ]
  },
  {
   "cell_type": "code",
   "execution_count": 9,
   "id": "9519e371-a4e4-48a8-9b6a-c02213f0353d",
   "metadata": {},
   "outputs": [],
   "source": [
    "data.dropna(inplace=True)"
   ]
  },
  {
   "cell_type": "code",
   "execution_count": 10,
   "id": "4e305f44-d1e6-4e02-8fd6-2a0f5f11a593",
   "metadata": {},
   "outputs": [
    {
     "name": "stderr",
     "output_type": "stream",
     "text": [
      "100%|████████| 1467949/1467949 [00:01<00:00, 1298838.76it/s]\n"
     ]
    }
   ],
   "source": [
    "publish_times = []\n",
    "for publish_time in tqdm(data['publish_time']):\n",
    "    publish_time = publish_time.split('-')\n",
    "    publish_time[2] = publish_time[2][:2]\n",
    "    publish_time = publish_time[0] + ' ' + publish_time[1] + ' ' + publish_time[2]\n",
    "    publish_times.append(publish_time)"
   ]
  },
  {
   "cell_type": "code",
   "execution_count": 11,
   "id": "483f23f5-c389-4317-8683-c5a751c8cbc7",
   "metadata": {},
   "outputs": [],
   "source": [
    "data['publish_time'] = publish_times"
   ]
  },
  {
   "cell_type": "code",
   "execution_count": 12,
   "id": "99646a70-b0a0-41fa-8603-8ff3653c1928",
   "metadata": {},
   "outputs": [],
   "source": [
    "data = data.drop(['video_id','title','channel_title','thumbnail_link'],axis=1)"
   ]
  },
  {
   "cell_type": "code",
   "execution_count": 13,
   "id": "d11cb336-bab2-4210-88da-ca8a64896c9b",
   "metadata": {},
   "outputs": [
    {
     "data": {
      "text/html": [
       "<div>\n",
       "<style scoped>\n",
       "    .dataframe tbody tr th:only-of-type {\n",
       "        vertical-align: middle;\n",
       "    }\n",
       "\n",
       "    .dataframe tbody tr th {\n",
       "        vertical-align: top;\n",
       "    }\n",
       "\n",
       "    .dataframe thead th {\n",
       "        text-align: right;\n",
       "    }\n",
       "</style>\n",
       "<table border=\"1\" class=\"dataframe\">\n",
       "  <thead>\n",
       "    <tr style=\"text-align: right;\">\n",
       "      <th></th>\n",
       "      <th>publish_time</th>\n",
       "      <th>category_id</th>\n",
       "      <th>trending_date</th>\n",
       "      <th>tags</th>\n",
       "      <th>views</th>\n",
       "      <th>likes</th>\n",
       "      <th>dislikes</th>\n",
       "      <th>comment_count</th>\n",
       "      <th>comments_disabled</th>\n",
       "      <th>ratings_disabled</th>\n",
       "    </tr>\n",
       "  </thead>\n",
       "  <tbody>\n",
       "    <tr>\n",
       "      <th>0</th>\n",
       "      <td>2020 08 11</td>\n",
       "      <td>22</td>\n",
       "      <td>2020-08-12T00:00:00Z</td>\n",
       "      <td>brawadis|prank|basketball|skits|ghost|funny vi...</td>\n",
       "      <td>1514614</td>\n",
       "      <td>156908</td>\n",
       "      <td>5855</td>\n",
       "      <td>35313</td>\n",
       "      <td>False</td>\n",
       "      <td>False</td>\n",
       "    </tr>\n",
       "    <tr>\n",
       "      <th>1</th>\n",
       "      <td>2020 08 11</td>\n",
       "      <td>20</td>\n",
       "      <td>2020-08-12T00:00:00Z</td>\n",
       "      <td>Apex Legends|Apex Legends characters|new Apex ...</td>\n",
       "      <td>2381688</td>\n",
       "      <td>146739</td>\n",
       "      <td>2794</td>\n",
       "      <td>16549</td>\n",
       "      <td>False</td>\n",
       "      <td>False</td>\n",
       "    </tr>\n",
       "    <tr>\n",
       "      <th>2</th>\n",
       "      <td>2020 08 11</td>\n",
       "      <td>24</td>\n",
       "      <td>2020-08-12T00:00:00Z</td>\n",
       "      <td>jacksepticeye|funny|funny meme|memes|jacksepti...</td>\n",
       "      <td>2038853</td>\n",
       "      <td>353787</td>\n",
       "      <td>2628</td>\n",
       "      <td>40221</td>\n",
       "      <td>False</td>\n",
       "      <td>False</td>\n",
       "    </tr>\n",
       "    <tr>\n",
       "      <th>3</th>\n",
       "      <td>2020 08 11</td>\n",
       "      <td>10</td>\n",
       "      <td>2020-08-12T00:00:00Z</td>\n",
       "      <td>xxl freshman|xxl freshmen|2020 xxl freshman|20...</td>\n",
       "      <td>496771</td>\n",
       "      <td>23251</td>\n",
       "      <td>1856</td>\n",
       "      <td>7647</td>\n",
       "      <td>False</td>\n",
       "      <td>False</td>\n",
       "    </tr>\n",
       "    <tr>\n",
       "      <th>4</th>\n",
       "      <td>2020 08 11</td>\n",
       "      <td>26</td>\n",
       "      <td>2020-08-12T00:00:00Z</td>\n",
       "      <td>The LaBrant Family|DIY|Interior Design|Makeove...</td>\n",
       "      <td>1123889</td>\n",
       "      <td>45802</td>\n",
       "      <td>964</td>\n",
       "      <td>2196</td>\n",
       "      <td>False</td>\n",
       "      <td>False</td>\n",
       "    </tr>\n",
       "  </tbody>\n",
       "</table>\n",
       "</div>"
      ],
      "text/plain": [
       "  publish_time  category_id         trending_date  \\\n",
       "0   2020 08 11           22  2020-08-12T00:00:00Z   \n",
       "1   2020 08 11           20  2020-08-12T00:00:00Z   \n",
       "2   2020 08 11           24  2020-08-12T00:00:00Z   \n",
       "3   2020 08 11           10  2020-08-12T00:00:00Z   \n",
       "4   2020 08 11           26  2020-08-12T00:00:00Z   \n",
       "\n",
       "                                                tags    views   likes  \\\n",
       "0  brawadis|prank|basketball|skits|ghost|funny vi...  1514614  156908   \n",
       "1  Apex Legends|Apex Legends characters|new Apex ...  2381688  146739   \n",
       "2  jacksepticeye|funny|funny meme|memes|jacksepti...  2038853  353787   \n",
       "3  xxl freshman|xxl freshmen|2020 xxl freshman|20...   496771   23251   \n",
       "4  The LaBrant Family|DIY|Interior Design|Makeove...  1123889   45802   \n",
       "\n",
       "   dislikes  comment_count  comments_disabled  ratings_disabled  \n",
       "0      5855          35313              False             False  \n",
       "1      2794          16549              False             False  \n",
       "2      2628          40221              False             False  \n",
       "3      1856           7647              False             False  \n",
       "4       964           2196              False             False  "
      ]
     },
     "execution_count": 13,
     "metadata": {},
     "output_type": "execute_result"
    }
   ],
   "source": [
    "data.head()"
   ]
  },
  {
   "cell_type": "code",
   "execution_count": 14,
   "id": "2d220e39-ad1b-437c-a7cb-885599c39afe",
   "metadata": {},
   "outputs": [
    {
     "name": "stderr",
     "output_type": "stream",
     "text": [
      "100%|████████| 1467949/1467949 [00:01<00:00, 1192455.00it/s]\n"
     ]
    }
   ],
   "source": [
    "trending_dates = []\n",
    "for trending_date in tqdm(data['trending_date']):\n",
    "    try:\n",
    "        trending_date = trending_date.split('-')\n",
    "        trending_date[2] = trending_date[2][:2]\n",
    "    except:\n",
    "        trending_date = trending_date[0].split('.')\n",
    "        trending_date[2] = trending_date[2][:2]\n",
    "    \n",
    "    trending_date = trending_date[0] + ' ' + trending_date[1] + ' ' + trending_date[2]\n",
    "    trending_dates.append(trending_date)\n",
    "data['trending_date'] = trending_dates "
   ]
  },
  {
   "cell_type": "code",
   "execution_count": 15,
   "id": "83bc8a74-3c8a-41ab-ba2e-3480ff3b8508",
   "metadata": {},
   "outputs": [],
   "source": [
    "def tokenize(sentence):\n",
    "    new_words = []\n",
    "    for word in nltk.word_tokenize(sentence.lower()):\n",
    "        new_words.append(stemmer.stem(word))\n",
    "    return new_words"
   ]
  },
  {
   "cell_type": "code",
   "execution_count": 16,
   "id": "8c1af59c-ffd8-457d-9a52-fe6abd280f28",
   "metadata": {},
   "outputs": [],
   "source": [
    "def bag_of_words(sentence:list,words:list):\n",
    "    bag = np.zeros(len(words))\n",
    "    for i,word in enumerate(words):\n",
    "        if word in sentence:\n",
    "            bag[i] = 1.0\n",
    "    return bag"
   ]
  },
  {
   "cell_type": "code",
   "execution_count": 17,
   "id": "ce4f3bdb-d7f5-4ddd-ac74-ed2b71c810c8",
   "metadata": {},
   "outputs": [
    {
     "data": {
      "text/plain": [
       "array([1., 0., 1.])"
      ]
     },
     "execution_count": 17,
     "metadata": {},
     "output_type": "execute_result"
    }
   ],
   "source": [
    "bag_of_words(['hi'],['hi','how','hi'])"
   ]
  },
  {
   "cell_type": "code",
   "execution_count": 18,
   "id": "36f7385c-6416-4ed1-91ef-3642e12923cd",
   "metadata": {},
   "outputs": [
    {
     "data": {
      "text/plain": [
       "['brawadis|prank|basketball|skits|ghost|funni',\n",
       " 'videos|vlog|vlogging|nba|browadis|challenges|bmw',\n",
       " 'i8|faz',\n",
       " 'rug|faz',\n",
       " 'rug',\n",
       " 'brother|mama',\n",
       " 'rug',\n",
       " 'and',\n",
       " 'papa',\n",
       " 'rug']"
      ]
     },
     "execution_count": 18,
     "metadata": {},
     "output_type": "execute_result"
    }
   ],
   "source": [
    "tokenize(data['tags'].iloc[0])"
   ]
  },
  {
   "cell_type": "code",
   "execution_count": 19,
   "id": "d5ab41ac-1ed3-4cff-8c67-3a27f216b7c8",
   "metadata": {},
   "outputs": [],
   "source": [
    "import seaborn as sns"
   ]
  },
  {
   "cell_type": "code",
   "execution_count": 20,
   "id": "fcc41255-9d01-4b57-b507-e26bdc4dc7b4",
   "metadata": {},
   "outputs": [
    {
     "data": {
      "text/plain": [
       "<AxesSubplot:>"
      ]
     },
     "execution_count": 20,
     "metadata": {},
     "output_type": "execute_result"
    },
    {
     "data": {
      "image/png": "[encoded data removed]",
      "text/plain": [
       "<Figure size 432x288 with 2 Axes>"
      ]
     },
     "metadata": {
      "needs_background": "light"
     },
     "output_type": "display_data"
    }
   ],
   "source": [
    "sns.heatmap(data.corr())"
   ]
  },
  {
   "cell_type": "code",
   "execution_count": null,
   "id": "8dd8b323-a076-48a7-9b39-cb7ea862d2f2",
   "metadata": {},
   "outputs": [],
   "source": []
  }
 ],
 "metadata": {
  "kernelspec": {
   "display_name": "Python 3.8.8 64-bit ('base': conda)",
   "language": "python",
   "name": "python388jvsc74a57bd07338908a6901250255932625ba4b5c32a9d91564d69b39dc5095100e5c96b0b4"
  },
  "language_info": {
   "codemirror_mode": {
    "name": "ipython",
    "version": 3
   },
   "file_extension": ".py",
   "mimetype": "text/x-python",
   "name": "python",
   "nbconvert_exporter": "python",
   "pygments_lexer": "ipython3",
   "version": "3.8.8"
  }
 },
 "nbformat": 4,
 "nbformat_minor": 5
}
